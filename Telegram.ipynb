{
  "nbformat": 4,
  "nbformat_minor": 0,
  "metadata": {
    "colab": {
      "name": "Telegram",
      "provenance": [],
      "collapsed_sections": [],
      "authorship_tag": "ABX9TyPv9yk6uedqiRs0BSEHSQ82",
      "include_colab_link": true
    },
    "kernelspec": {
      "name": "python3",
      "display_name": "Python 3"
    }
  },
  "cells": [
    {
      "cell_type": "markdown",
      "metadata": {
        "id": "view-in-github",
        "colab_type": "text"
      },
      "source": [
        "<a href=\"https://colab.research.google.com/github/Archesz/Telegram-Bot/blob/main/Telegram.ipynb\" target=\"_parent\"><img src=\"https://colab.research.google.com/assets/colab-badge.svg\" alt=\"Open In Colab\"/></a>"
      ]
    },
    {
      "cell_type": "code",
      "metadata": {
        "id": "UC23Ac2ocAh0"
      },
      "source": [
        "# Importando Bibliotecas\r\n",
        "\r\n",
        "import requests\r\n",
        "import time\r\n",
        "import json\r\n",
        "import os\r\n",
        "import random"
      ],
      "execution_count": null,
      "outputs": []
    },
    {
      "cell_type": "code",
      "metadata": {
        "id": "YbK0gVyN4rpX"
      },
      "source": [
        "# Criando o bot do Telegram\n",
        "class TelegramBot:\n",
        "    def __init__(self):\n",
        "        token = '1339507062:AAHJ_aShRUAYtMCHnWKEoV0azTx4Anz2Q4s'\n",
        "        self.url_base = f'https://api.telegram.org/bot{token}/'\n",
        "\n",
        "    def Iniciar(self):\n",
        "        update_id = None\n",
        "        while True:\n",
        "            atualizacao = self.obter_novas_mensagens(update_id)\n",
        "            dados = atualizacao[\"result\"]\n",
        "            if dados:\n",
        "                for dado in dados:\n",
        "                    update_id = dado['update_id']\n",
        "                    mensagem = str(dado[\"message\"][\"text\"])\n",
        "                    chat_id = dado[\"message\"][\"from\"][\"id\"]\n",
        "                    first_name = dado[\"message\"][\"from\"][\"first_name\"]\n",
        "                    eh_primeira_mensagem = int(\n",
        "                        dado[\"message\"][\"message_id\"]) == 1\n",
        "                    resposta = self.criar_resposta(\n",
        "                        mensagem, eh_primeira_mensagem, first_name)\n",
        "                    self.responder(resposta, chat_id)\n",
        "\n",
        "    # Obter mensagens\n",
        "    def obter_novas_mensagens(self, update_id):\n",
        "        link_requisicao = f'{self.url_base}getUpdates?timeout=100'\n",
        "        if update_id:\n",
        "            link_requisicao = f'{link_requisicao}&offset={update_id + 1}'\n",
        "        resultado = requests.get(link_requisicao)\n",
        "        return json.loads(resultado.content)\n",
        "\n",
        "    # Criar uma resposta\n",
        "    def criar_resposta(self, mensagem, eh_primeira_mensagem, first_name):\n",
        "        respostas = ['Desculpe, eu acho que você pode ter digitado errado, poderia dizer novamente?',\n",
        "                     'Certo, eu não entendi, poderia digitar novamente?', \n",
        "                     'Confira se digitou certo, por favor.', \n",
        "                     'Talvez devesse conferir sua resposta.']\n",
        "                \n",
        "        if eh_primeira_mensagem == True or mensagem in ('Olá'):\n",
        "            return f'''Bom dia {first_name}, Sou o Arch, um Bot iniciante no momento. Como posso ajudar?.\n",
        "            (digite o número):\n",
        "            1 - Quem te criou?\n",
        "            2 - Qual sua função?\n",
        "            3 - Updates\n",
        "            '''\n",
        "\n",
        "        elif mensagem == '1':\n",
        "          return '''\n",
        "          Por enquanto apenas Arch.\n",
        "          '''\n",
        "        \n",
        "        elif mensagem == '2':\n",
        "          return '''\n",
        "          No momento, estou apenas no berço, mas minhas funções a longo prazo são formas de ajudar estudantes.\n",
        "          Pretendo tirar dúvidas simples e medianas de alunos nas matérias do ensino médio, disponibilizar livros em PDF, video aulas, monitorias e mentorias com professores na graduação, alertar de datas importantes sobre vestibulares e muito mais.\n",
        "          Além do Telegram, estaremos disponíveis no Whatsapp, Facebook, Instagram, Twitter, Youtube e em nosso blog (www.archnerd.com.br).\n",
        "          '''\n",
        "        \n",
        "        elif mensagem == '3':\n",
        "          return '''\n",
        "          Próximos updates:\n",
        "          22/09 - Inclusão das matérias de exatas no Bot.\n",
        "          26/09 - Adicionando respostas para as matérias de exatas de nível 01.\n",
        "          30/09 - Adicionando livros de matemática do Ensino médio no Bot.\n",
        "          02/10 - Adicionando o Bot Chloe como assistente de Química.\n",
        "          04/10 - Extendendo o Bot para o Whatsapp.\n",
        "          05/10 - Nova logo e Design do Arch.\n",
        "          08/10 - Teste com público do Ensino Médio (230/400 alunos).\n",
        "          '''\n",
        "\n",
        "        elif mensagem == '0':\n",
        "          '''\n",
        "          (digite o número):\n",
        "          1 - Estudo\n",
        "          2 - Dicas\n",
        "          3 - Mídias \n",
        "          0 - Voltar\n",
        "          Você pode digitar 0 a qualquer momento.\n",
        "          '''\n",
        "\n",
        "        else:\n",
        "            return f'{respostas[random.randrange(0, 3)]}'\n",
        "\n",
        "        \n",
        "\n",
        "    # Responder\n",
        "    def responder(self, resposta, chat_id):\n",
        "        link_requisicao = f'{self.url_base}sendMessage?chat_id={chat_id}&text={resposta}'\n",
        "        requests.get(link_requisicao)\n",
        "\n",
        "\n",
        "bot = TelegramBot()\n",
        "bot.Iniciar()"
      ],
      "execution_count": null,
      "outputs": []
    },
    {
      "cell_type": "code",
      "metadata": {
        "id": "aDcmLerdPsqk"
      },
      "source": [
        ""
      ],
      "execution_count": null,
      "outputs": []
    }
  ]
}